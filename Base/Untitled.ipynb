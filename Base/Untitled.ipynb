{
 "cells": [
  {
   "cell_type": "code",
   "execution_count": 1,
   "id": "7593e53c-ca5c-4fae-a113-1e4c4cfc6630",
   "metadata": {},
   "outputs": [],
   "source": [
    "# Paso 1: Importar las librerías necesarias\n",
    "import pandas as pd\n",
    "import sqlite3\n",
    "import os"
   ]
  },
  {
   "cell_type": "code",
   "execution_count": 7,
   "id": "3b3c48e1-0ca5-4366-ac96-e2aecb3d2c8e",
   "metadata": {},
   "outputs": [],
   "source": [
    "# Paso 2: Definir la ruta del archivo CSV\n",
    "csv_file_path = 'DS_Mediciones_Suelo.csv'  # Reemplaza con el nombre de tu archivo\n",
    "\n",
    "# Verificar si el archivo existe\n",
    "if not os.path.exists(csv_file_path):\n",
    "    raise FileNotFoundError(f\"El archivo '{csv_file_path}' no se encuentra en el directorio actual.\")\n"
   ]
  },
  {
   "cell_type": "code",
   "execution_count": 8,
   "id": "939bc03f-9172-4c65-9c29-d551d1091d67",
   "metadata": {},
   "outputs": [
    {
     "name": "stdout",
     "output_type": "stream",
     "text": [
      "Datos cargados desde el CSV:\n"
     ]
    },
    {
     "data": {
      "text/html": [
       "<div>\n",
       "<style scoped>\n",
       "    .dataframe tbody tr th:only-of-type {\n",
       "        vertical-align: middle;\n",
       "    }\n",
       "\n",
       "    .dataframe tbody tr th {\n",
       "        vertical-align: top;\n",
       "    }\n",
       "\n",
       "    .dataframe thead th {\n",
       "        text-align: right;\n",
       "    }\n",
       "</style>\n",
       "<table border=\"1\" class=\"dataframe\">\n",
       "  <thead>\n",
       "    <tr style=\"text-align: right;\">\n",
       "      <th></th>\n",
       "      <th>id</th>\n",
       "      <th>velocidad_viento_10m</th>\n",
       "      <th>presion_superficie</th>\n",
       "      <th>temp_suelo_7cm</th>\n",
       "      <th>humedad_suelo_7cm</th>\n",
       "      <th>temp_suelo_250cm</th>\n",
       "    </tr>\n",
       "  </thead>\n",
       "  <tbody>\n",
       "    <tr>\n",
       "      <th>0</th>\n",
       "      <td>1</td>\n",
       "      <td>2.3</td>\n",
       "      <td>714.1</td>\n",
       "      <td>11.4</td>\n",
       "      <td>0.439</td>\n",
       "      <td>11.1</td>\n",
       "    </tr>\n",
       "    <tr>\n",
       "      <th>1</th>\n",
       "      <td>2</td>\n",
       "      <td>10.5</td>\n",
       "      <td>1009.4</td>\n",
       "      <td>29.3</td>\n",
       "      <td>0.410</td>\n",
       "      <td>26.8</td>\n",
       "    </tr>\n",
       "    <tr>\n",
       "      <th>2</th>\n",
       "      <td>3</td>\n",
       "      <td>3.3</td>\n",
       "      <td>893.0</td>\n",
       "      <td>21.2</td>\n",
       "      <td>0.427</td>\n",
       "      <td>22.2</td>\n",
       "    </tr>\n",
       "    <tr>\n",
       "      <th>3</th>\n",
       "      <td>4</td>\n",
       "      <td>6.0</td>\n",
       "      <td>715.7</td>\n",
       "      <td>12.9</td>\n",
       "      <td>0.431</td>\n",
       "      <td>11.1</td>\n",
       "    </tr>\n",
       "    <tr>\n",
       "      <th>4</th>\n",
       "      <td>5</td>\n",
       "      <td>3.4</td>\n",
       "      <td>1012.1</td>\n",
       "      <td>25.7</td>\n",
       "      <td>0.456</td>\n",
       "      <td>26.8</td>\n",
       "    </tr>\n",
       "  </tbody>\n",
       "</table>\n",
       "</div>"
      ],
      "text/plain": [
       "   id  velocidad_viento_10m  presion_superficie  temp_suelo_7cm  \\\n",
       "0   1                   2.3               714.1            11.4   \n",
       "1   2                  10.5              1009.4            29.3   \n",
       "2   3                   3.3               893.0            21.2   \n",
       "3   4                   6.0               715.7            12.9   \n",
       "4   5                   3.4              1012.1            25.7   \n",
       "\n",
       "   humedad_suelo_7cm  temp_suelo_250cm  \n",
       "0              0.439              11.1  \n",
       "1              0.410              26.8  \n",
       "2              0.427              22.2  \n",
       "3              0.431              11.1  \n",
       "4              0.456              26.8  "
      ]
     },
     "metadata": {},
     "output_type": "display_data"
    }
   ],
   "source": [
    "# Paso 3: Cargar el CSV en un DataFrame\n",
    "df = pd.read_csv(csv_file_path, sep=';')\n",
    "print(\"Datos cargados desde el CSV:\")\n",
    "display(df.head())"
   ]
  },
  {
   "cell_type": "code",
   "execution_count": 9,
   "id": "cd080392-0b98-4fa4-970a-3ad308a2d57a",
   "metadata": {},
   "outputs": [
    {
     "data": {
      "text/plain": [
       "(11794, 6)"
      ]
     },
     "execution_count": 9,
     "metadata": {},
     "output_type": "execute_result"
    }
   ],
   "source": [
    "df.shape"
   ]
  },
  {
   "cell_type": "code",
   "execution_count": 10,
   "id": "80945605-f102-4658-9969-f2ae4f6830b8",
   "metadata": {},
   "outputs": [],
   "source": [
    "# Paso 4: Conectar (o crear) la base de datos SQLite\n",
    "db_path = 'BD_Mediciones_suelo.sqlite'\n",
    "conn = sqlite3.connect(db_path)\n",
    "cursor = conn.cursor()"
   ]
  },
  {
   "cell_type": "code",
   "execution_count": 14,
   "id": "8cbd31e9-914b-4b5b-80c8-ca39af6572b4",
   "metadata": {},
   "outputs": [],
   "source": [
    "\n",
    "# Paso 5: Especificar el nombre de la tabla a crear\n",
    "nombre_tabla = 'Mediciones_suelo'"
   ]
  },
  {
   "cell_type": "code",
   "execution_count": 15,
   "id": "85c17952-e094-4046-9f47-b88a92c88bad",
   "metadata": {},
   "outputs": [
    {
     "name": "stdout",
     "output_type": "stream",
     "text": [
      "\n",
      "Datos migrados exitosamente a la tabla 'Mediciones_suelo' en la base de datos 'BD_Mediciones_suelo.sqlite'.\n"
     ]
    }
   ],
   "source": [
    "# Paso 6: Migrar los datos del DataFrame a SQLite\n",
    "df.to_sql(nombre_tabla, conn, if_exists='replace', index=False)\n",
    "print(f\"\\nDatos migrados exitosamente a la tabla '{nombre_tabla}' en la base de datos '{db_path}'.\")\n"
   ]
  },
  {
   "cell_type": "code",
   "execution_count": 16,
   "id": "fa9d1e98-e500-4a39-aed1-6e5c521c2973",
   "metadata": {},
   "outputs": [
    {
     "name": "stdout",
     "output_type": "stream",
     "text": [
      "\n",
      "Mostrando los primeros 5 registros desde SQLite:\n"
     ]
    },
    {
     "data": {
      "text/html": [
       "<div>\n",
       "<style scoped>\n",
       "    .dataframe tbody tr th:only-of-type {\n",
       "        vertical-align: middle;\n",
       "    }\n",
       "\n",
       "    .dataframe tbody tr th {\n",
       "        vertical-align: top;\n",
       "    }\n",
       "\n",
       "    .dataframe thead th {\n",
       "        text-align: right;\n",
       "    }\n",
       "</style>\n",
       "<table border=\"1\" class=\"dataframe\">\n",
       "  <thead>\n",
       "    <tr style=\"text-align: right;\">\n",
       "      <th></th>\n",
       "      <th>id</th>\n",
       "      <th>velocidad_viento_10m</th>\n",
       "      <th>presion_superficie</th>\n",
       "      <th>temp_suelo_7cm</th>\n",
       "      <th>humedad_suelo_7cm</th>\n",
       "      <th>temp_suelo_250cm</th>\n",
       "    </tr>\n",
       "  </thead>\n",
       "  <tbody>\n",
       "    <tr>\n",
       "      <th>0</th>\n",
       "      <td>1</td>\n",
       "      <td>2.3</td>\n",
       "      <td>714.1</td>\n",
       "      <td>11.4</td>\n",
       "      <td>0.439</td>\n",
       "      <td>11.1</td>\n",
       "    </tr>\n",
       "    <tr>\n",
       "      <th>1</th>\n",
       "      <td>2</td>\n",
       "      <td>10.5</td>\n",
       "      <td>1009.4</td>\n",
       "      <td>29.3</td>\n",
       "      <td>0.410</td>\n",
       "      <td>26.8</td>\n",
       "    </tr>\n",
       "    <tr>\n",
       "      <th>2</th>\n",
       "      <td>3</td>\n",
       "      <td>3.3</td>\n",
       "      <td>893.0</td>\n",
       "      <td>21.2</td>\n",
       "      <td>0.427</td>\n",
       "      <td>22.2</td>\n",
       "    </tr>\n",
       "    <tr>\n",
       "      <th>3</th>\n",
       "      <td>4</td>\n",
       "      <td>6.0</td>\n",
       "      <td>715.7</td>\n",
       "      <td>12.9</td>\n",
       "      <td>0.431</td>\n",
       "      <td>11.1</td>\n",
       "    </tr>\n",
       "    <tr>\n",
       "      <th>4</th>\n",
       "      <td>5</td>\n",
       "      <td>3.4</td>\n",
       "      <td>1012.1</td>\n",
       "      <td>25.7</td>\n",
       "      <td>0.456</td>\n",
       "      <td>26.8</td>\n",
       "    </tr>\n",
       "  </tbody>\n",
       "</table>\n",
       "</div>"
      ],
      "text/plain": [
       "   id  velocidad_viento_10m  presion_superficie  temp_suelo_7cm  \\\n",
       "0   1                   2.3               714.1            11.4   \n",
       "1   2                  10.5              1009.4            29.3   \n",
       "2   3                   3.3               893.0            21.2   \n",
       "3   4                   6.0               715.7            12.9   \n",
       "4   5                   3.4              1012.1            25.7   \n",
       "\n",
       "   humedad_suelo_7cm  temp_suelo_250cm  \n",
       "0              0.439              11.1  \n",
       "1              0.410              26.8  \n",
       "2              0.427              22.2  \n",
       "3              0.431              11.1  \n",
       "4              0.456              26.8  "
      ]
     },
     "metadata": {},
     "output_type": "display_data"
    }
   ],
   "source": [
    "# Paso 7: Verificar los datos insertados\n",
    "print(\"\\nMostrando los primeros 5 registros desde SQLite:\")\n",
    "consulta = pd.read_sql_query(f\"SELECT * FROM {nombre_tabla} LIMIT 5\", conn)\n",
    "display(consulta)"
   ]
  },
  {
   "cell_type": "code",
   "execution_count": 17,
   "id": "70f7af72-811b-4279-a15c-7d9480c660a0",
   "metadata": {},
   "outputs": [],
   "source": [
    "# Paso 8: Cerrar la conexión\n",
    "conn.close()\n"
   ]
  },
  {
   "cell_type": "code",
   "execution_count": null,
   "id": "2fca9fdf-11b5-4621-b1d6-68a580a63db3",
   "metadata": {},
   "outputs": [],
   "source": []
  }
 ],
 "metadata": {
  "kernelspec": {
   "display_name": "Python 3 (ipykernel)",
   "language": "python",
   "name": "python3"
  },
  "language_info": {
   "codemirror_mode": {
    "name": "ipython",
    "version": 3
   },
   "file_extension": ".py",
   "mimetype": "text/x-python",
   "name": "python",
   "nbconvert_exporter": "python",
   "pygments_lexer": "ipython3",
   "version": "3.12.10"
  }
 },
 "nbformat": 4,
 "nbformat_minor": 5
}
