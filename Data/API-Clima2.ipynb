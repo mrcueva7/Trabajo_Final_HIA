{
 "cells": [
  {
   "cell_type": "code",
   "execution_count": 2,
   "metadata": {
    "colab": {
     "base_uri": "https://localhost:8080/"
    },
    "executionInfo": {
     "elapsed": 4133,
     "status": "ok",
     "timestamp": 1746581571519,
     "user": {
      "displayName": "Marlon Cueva",
      "userId": "15952990611834905531"
     },
     "user_tz": 300
    },
    "id": "Mj5n5QJtX0sn",
    "outputId": "c8a0af0a-b95b-46f1-ca5a-aa0f9caf945d"
   },
   "outputs": [
    {
     "name": "stdout",
     "output_type": "stream",
     "text": [
      "Collecting openmeteo_requests\n",
      "  Downloading openmeteo_requests-1.4.0-py3-none-any.whl.metadata (9.7 kB)\n",
      "Collecting openmeteo-sdk>=1.4.0 (from openmeteo_requests)\n",
      "  Downloading openmeteo_sdk-1.20.0-py3-none-any.whl.metadata (935 bytes)\n",
      "Requirement already satisfied: requests in c:\\users\\mcueva\\appdata\\local\\programs\\python\\python312\\lib\\site-packages (from openmeteo_requests) (2.32.3)\n",
      "Collecting flatbuffers==25.2.10 (from openmeteo-sdk>=1.4.0->openmeteo_requests)\n",
      "  Downloading flatbuffers-25.2.10-py2.py3-none-any.whl.metadata (875 bytes)\n",
      "Requirement already satisfied: charset-normalizer<4,>=2 in c:\\users\\mcueva\\appdata\\local\\programs\\python\\python312\\lib\\site-packages (from requests->openmeteo_requests) (3.4.2)\n",
      "Requirement already satisfied: idna<4,>=2.5 in c:\\users\\mcueva\\appdata\\local\\programs\\python\\python312\\lib\\site-packages (from requests->openmeteo_requests) (3.10)\n",
      "Requirement already satisfied: urllib3<3,>=1.21.1 in c:\\users\\mcueva\\appdata\\local\\programs\\python\\python312\\lib\\site-packages (from requests->openmeteo_requests) (2.4.0)\n",
      "Requirement already satisfied: certifi>=2017.4.17 in c:\\users\\mcueva\\appdata\\local\\programs\\python\\python312\\lib\\site-packages (from requests->openmeteo_requests) (2025.4.26)\n",
      "Downloading openmeteo_requests-1.4.0-py3-none-any.whl (6.0 kB)\n",
      "Downloading openmeteo_sdk-1.20.0-py3-none-any.whl (15 kB)\n",
      "Downloading flatbuffers-25.2.10-py2.py3-none-any.whl (30 kB)\n",
      "Installing collected packages: flatbuffers, openmeteo-sdk, openmeteo_requests\n",
      "\n",
      "   ---------------------------------------- 0/3 [flatbuffers]\n",
      "   ------------- -------------------------- 1/3 [openmeteo-sdk]\n",
      "   -------------------------- ------------- 2/3 [openmeteo_requests]\n",
      "   ---------------------------------------- 3/3 [openmeteo_requests]\n",
      "\n",
      "Successfully installed flatbuffers-25.2.10 openmeteo-sdk-1.20.0 openmeteo_requests-1.4.0\n",
      "Note: you may need to restart the kernel to use updated packages.\n"
     ]
    }
   ],
   "source": [
    "pip install openmeteo_requests"
   ]
  },
  {
   "cell_type": "code",
   "execution_count": 3,
   "metadata": {
    "colab": {
     "base_uri": "https://localhost:8080/"
    },
    "executionInfo": {
     "elapsed": 2816,
     "status": "ok",
     "timestamp": 1746581659894,
     "user": {
      "displayName": "Marlon Cueva",
      "userId": "15952990611834905531"
     },
     "user_tz": 300
    },
    "id": "AvF0CEsBYNip",
    "outputId": "d03604f5-5eba-4f85-9802-d36e8e9cf2c7"
   },
   "outputs": [
    {
     "name": "stdout",
     "output_type": "stream",
     "text": [
      "Collecting retry_requests\n",
      "  Downloading retry_requests-2.0.0-py3-none-any.whl.metadata (2.6 kB)\n",
      "Requirement already satisfied: requests in c:\\users\\mcueva\\appdata\\local\\programs\\python\\python312\\lib\\site-packages (from retry_requests) (2.32.3)\n",
      "Requirement already satisfied: urllib3>=1.26 in c:\\users\\mcueva\\appdata\\local\\programs\\python\\python312\\lib\\site-packages (from retry_requests) (2.4.0)\n",
      "Requirement already satisfied: charset-normalizer<4,>=2 in c:\\users\\mcueva\\appdata\\local\\programs\\python\\python312\\lib\\site-packages (from requests->retry_requests) (3.4.2)\n",
      "Requirement already satisfied: idna<4,>=2.5 in c:\\users\\mcueva\\appdata\\local\\programs\\python\\python312\\lib\\site-packages (from requests->retry_requests) (3.10)\n",
      "Requirement already satisfied: certifi>=2017.4.17 in c:\\users\\mcueva\\appdata\\local\\programs\\python\\python312\\lib\\site-packages (from requests->retry_requests) (2025.4.26)\n",
      "Downloading retry_requests-2.0.0-py3-none-any.whl (15 kB)\n",
      "Installing collected packages: retry_requests\n",
      "Successfully installed retry_requests-2.0.0\n",
      "Note: you may need to restart the kernel to use updated packages.\n"
     ]
    }
   ],
   "source": [
    "pip install retry_requests"
   ]
  },
  {
   "cell_type": "code",
   "execution_count": 4,
   "metadata": {
    "colab": {
     "base_uri": "https://localhost:8080/"
    },
    "executionInfo": {
     "elapsed": 3823,
     "status": "ok",
     "timestamp": 1746581705804,
     "user": {
      "displayName": "Marlon Cueva",
      "userId": "15952990611834905531"
     },
     "user_tz": 300
    },
    "id": "VS3iYDx0YTx9",
    "outputId": "309a1411-f5bb-40d7-924b-51d27a52f45b"
   },
   "outputs": [
    {
     "name": "stdout",
     "output_type": "stream",
     "text": [
      "Collecting requests_cache\n",
      "  Downloading requests_cache-1.2.1-py3-none-any.whl.metadata (9.9 kB)\n",
      "Requirement already satisfied: attrs>=21.2 in c:\\users\\mcueva\\appdata\\local\\programs\\python\\python312\\lib\\site-packages (from requests_cache) (25.3.0)\n",
      "Collecting cattrs>=22.2 (from requests_cache)\n",
      "  Downloading cattrs-24.1.3-py3-none-any.whl.metadata (8.4 kB)\n",
      "Requirement already satisfied: platformdirs>=2.5 in c:\\users\\mcueva\\appdata\\local\\programs\\python\\python312\\lib\\site-packages (from requests_cache) (4.3.7)\n",
      "Requirement already satisfied: requests>=2.22 in c:\\users\\mcueva\\appdata\\local\\programs\\python\\python312\\lib\\site-packages (from requests_cache) (2.32.3)\n",
      "Collecting url-normalize>=1.4 (from requests_cache)\n",
      "  Downloading url_normalize-2.2.1-py3-none-any.whl.metadata (5.6 kB)\n",
      "Requirement already satisfied: urllib3>=1.25.5 in c:\\users\\mcueva\\appdata\\local\\programs\\python\\python312\\lib\\site-packages (from requests_cache) (2.4.0)\n",
      "Requirement already satisfied: charset-normalizer<4,>=2 in c:\\users\\mcueva\\appdata\\local\\programs\\python\\python312\\lib\\site-packages (from requests>=2.22->requests_cache) (3.4.2)\n",
      "Requirement already satisfied: idna<4,>=2.5 in c:\\users\\mcueva\\appdata\\local\\programs\\python\\python312\\lib\\site-packages (from requests>=2.22->requests_cache) (3.10)\n",
      "Requirement already satisfied: certifi>=2017.4.17 in c:\\users\\mcueva\\appdata\\local\\programs\\python\\python312\\lib\\site-packages (from requests>=2.22->requests_cache) (2025.4.26)\n",
      "Downloading requests_cache-1.2.1-py3-none-any.whl (61 kB)\n",
      "Downloading cattrs-24.1.3-py3-none-any.whl (66 kB)\n",
      "Downloading url_normalize-2.2.1-py3-none-any.whl (14 kB)\n",
      "Installing collected packages: url-normalize, cattrs, requests_cache\n",
      "\n",
      "   ---------------------------------------- 0/3 [url-normalize]\n",
      "   ------------- -------------------------- 1/3 [cattrs]\n",
      "   ------------- -------------------------- 1/3 [cattrs]\n",
      "   ------------- -------------------------- 1/3 [cattrs]\n",
      "   ------------- -------------------------- 1/3 [cattrs]\n",
      "   ------------- -------------------------- 1/3 [cattrs]\n",
      "   -------------------------- ------------- 2/3 [requests_cache]\n",
      "   -------------------------- ------------- 2/3 [requests_cache]\n",
      "   -------------------------- ------------- 2/3 [requests_cache]\n",
      "   ---------------------------------------- 3/3 [requests_cache]\n",
      "\n",
      "Successfully installed cattrs-24.1.3 requests_cache-1.2.1 url-normalize-2.2.1\n",
      "Note: you may need to restart the kernel to use updated packages.\n"
     ]
    }
   ],
   "source": [
    "pip install requests_cache"
   ]
  },
  {
   "cell_type": "code",
   "execution_count": 5,
   "metadata": {
    "id": "gTVVm5c1XbJN"
   },
   "outputs": [],
   "source": [
    "import openmeteo_requests\n",
    "import pandas as pd\n",
    "import requests_cache\n",
    "from retry_requests import retry"
   ]
  },
  {
   "cell_type": "code",
   "execution_count": 6,
   "metadata": {
    "colab": {
     "base_uri": "https://localhost:8080/"
    },
    "executionInfo": {
     "elapsed": 596,
     "status": "ok",
     "timestamp": 1746586061336,
     "user": {
      "displayName": "Marlon Cueva",
      "userId": "15952990611834905531"
     },
     "user_tz": 300
    },
    "id": "q7Ob9tPVRp9E",
    "outputId": "60970570-4ae0-4d7f-ef18-391a888a62c2"
   },
   "outputs": [
    {
     "name": "stdout",
     "output_type": "stream",
     "text": [
      "Coordinates -0.9490333795547485°N -78.59951782226562°E\n",
      "Elevation 2769.0 m asl\n",
      "Timezone b'Pacific/Auckland'b'GMT+12'\n",
      "Timezone difference to GMT+0 43200 s\n",
      "                           date  temperature_2m  wind_speed_10m  \\\n",
      "0     2023-04-23 12:00:00+00:00       10.926499        3.396233   \n",
      "1     2023-04-23 13:00:00+00:00       11.776500        2.189795   \n",
      "2     2023-04-23 14:00:00+00:00       12.376500        5.091168   \n",
      "3     2023-04-23 15:00:00+00:00       12.876500        2.902413   \n",
      "4     2023-04-23 16:00:00+00:00       13.026500        4.334974   \n",
      "...                         ...             ...             ...   \n",
      "17899 2025-05-08 07:00:00+00:00        9.576500        1.537921   \n",
      "17900 2025-05-08 08:00:00+00:00        9.176499        3.438895   \n",
      "17901 2025-05-08 09:00:00+00:00        8.626500        3.572898   \n",
      "17902 2025-05-08 10:00:00+00:00        8.476500        2.800143   \n",
      "17903 2025-05-08 11:00:00+00:00        7.726500        1.853213   \n",
      "\n",
      "       wind_speed_100m  relative_humidity_2m  weather_code  rain  \\\n",
      "0             6.618519             86.588150           3.0   0.0   \n",
      "1             3.671294             82.684052           3.0   0.0   \n",
      "2             7.072878             77.624985          51.0   0.1   \n",
      "3             4.024922             74.112206          51.0   0.1   \n",
      "4             5.623380             73.887909          51.0   0.2   \n",
      "...                ...                   ...           ...   ...   \n",
      "17899         3.462369             82.691269           2.0   0.0   \n",
      "17900         5.920878             84.945221           2.0   0.0   \n",
      "17901         7.594208             87.253822           3.0   0.0   \n",
      "17902         6.114703             88.144051           2.0   0.0   \n",
      "17903         4.553679             89.611183           2.0   0.0   \n",
      "\n",
      "       pressure_msl  apparent_temperature  precipitation  cloud_cover  \\\n",
      "0       1018.200012             10.110747            0.0        100.0   \n",
      "1       1019.000000             11.176652            0.0        100.0   \n",
      "2       1019.900024             11.260727            0.1        100.0   \n",
      "3       1019.900024             12.027731            0.1        100.0   \n",
      "4       1019.500000             11.994795            0.2        100.0   \n",
      "...             ...                   ...            ...          ...   \n",
      "17899   1019.599976              8.531430            0.0         54.0   \n",
      "17900   1019.599976              7.854185            0.0         77.0   \n",
      "17901   1019.700012              7.249462            0.0         89.0   \n",
      "17902   1020.200012              7.212145            0.0         73.0   \n",
      "17903   1020.700012              6.485304            0.0         76.0   \n",
      "\n",
      "       temperature_2m_spread  soil_temperature_0_to_7cm  \n",
      "0                        NaN                  10.676499  \n",
      "1                        NaN                  11.376500  \n",
      "2                        NaN                  12.476500  \n",
      "3                        NaN                  13.426499  \n",
      "4                        NaN                  14.176499  \n",
      "...                      ...                        ...  \n",
      "17899                    NaN                   9.976500  \n",
      "17900                    NaN                   9.826500  \n",
      "17901                    NaN                   9.676499  \n",
      "17902                    NaN                   9.626500  \n",
      "17903                    NaN                   9.326500  \n",
      "\n",
      "[17904 rows x 13 columns]\n"
     ]
    }
   ],
   "source": [
    "\n",
    "# Setup the Open-Meteo API client with cache and retry on error\n",
    "cache_session = requests_cache.CachedSession('.cache', expire_after = -1)\n",
    "retry_session = retry(cache_session, retries = 5, backoff_factor = 0.2)\n",
    "openmeteo = openmeteo_requests.Client(session = retry_session)\n",
    "\n",
    "# Make sure all required weather variables are listed here\n",
    "# The order of variables in hourly or daily is important to assign them correctly below\n",
    "url = \"https://archive-api.open-meteo.com/v1/archive\"\n",
    "params = {\n",
    "\t\"latitude\": -0.983,\n",
    "\t\"longitude\": -78.618,\n",
    "\t\"start_date\": \"2023-04-24\",\n",
    "\t\"end_date\": \"2025-05-08\",\n",
    "\t\"hourly\": [\"temperature_2m\", \"wind_speed_10m\", \"wind_speed_100m\", \"relative_humidity_2m\", \"weather_code\", \"rain\", \"pressure_msl\", \"apparent_temperature\", \"precipitation\", \"cloud_cover\", \"temperature_2m_spread\", \"soil_temperature_0_to_7cm\"],\n",
    "\t\"timezone\": \"Pacific/Auckland\"\n",
    "}\n",
    "responses = openmeteo.weather_api(url, params=params)\n",
    "\n",
    "# Process first location. Add a for-loop for multiple locations or weather models\n",
    "response = responses[0]\n",
    "print(f\"Coordinates {response.Latitude()}°N {response.Longitude()}°E\")\n",
    "print(f\"Elevation {response.Elevation()} m asl\")\n",
    "print(f\"Timezone {response.Timezone()}{response.TimezoneAbbreviation()}\")\n",
    "print(f\"Timezone difference to GMT+0 {response.UtcOffsetSeconds()} s\")\n",
    "\n",
    "# Process hourly data. The order of variables needs to be the same as requested.\n",
    "hourly = response.Hourly()\n",
    "hourly_temperature_2m = hourly.Variables(0).ValuesAsNumpy()\n",
    "hourly_wind_speed_10m = hourly.Variables(1).ValuesAsNumpy()\n",
    "hourly_wind_speed_100m = hourly.Variables(2).ValuesAsNumpy()\n",
    "hourly_relative_humidity_2m = hourly.Variables(3).ValuesAsNumpy()\n",
    "hourly_weather_code = hourly.Variables(4).ValuesAsNumpy()\n",
    "hourly_rain = hourly.Variables(5).ValuesAsNumpy()\n",
    "hourly_pressure_msl = hourly.Variables(6).ValuesAsNumpy()\n",
    "hourly_apparent_temperature = hourly.Variables(7).ValuesAsNumpy()\n",
    "hourly_precipitation = hourly.Variables(8).ValuesAsNumpy()\n",
    "hourly_cloud_cover = hourly.Variables(9).ValuesAsNumpy()\n",
    "hourly_temperature_2m_spread = hourly.Variables(10).ValuesAsNumpy()\n",
    "hourly_soil_temperature_0_to_7cm = hourly.Variables(11).ValuesAsNumpy()\n",
    "\n",
    "hourly_data = {\"date\": pd.date_range(\n",
    "\tstart = pd.to_datetime(hourly.Time(), unit = \"s\", utc = True),\n",
    "\tend = pd.to_datetime(hourly.TimeEnd(), unit = \"s\", utc = True),\n",
    "\tfreq = pd.Timedelta(seconds = hourly.Interval()),\n",
    "\tinclusive = \"left\"\n",
    ")}\n",
    "\n",
    "hourly_data[\"temperature_2m\"] = hourly_temperature_2m\n",
    "hourly_data[\"wind_speed_10m\"] = hourly_wind_speed_10m\n",
    "hourly_data[\"wind_speed_100m\"] = hourly_wind_speed_100m\n",
    "hourly_data[\"relative_humidity_2m\"] = hourly_relative_humidity_2m\n",
    "hourly_data[\"weather_code\"] = hourly_weather_code\n",
    "hourly_data[\"rain\"] = hourly_rain\n",
    "hourly_data[\"pressure_msl\"] = hourly_pressure_msl\n",
    "hourly_data[\"apparent_temperature\"] = hourly_apparent_temperature\n",
    "hourly_data[\"precipitation\"] = hourly_precipitation\n",
    "hourly_data[\"cloud_cover\"] = hourly_cloud_cover\n",
    "hourly_data[\"temperature_2m_spread\"] = hourly_temperature_2m_spread\n",
    "hourly_data[\"soil_temperature_0_to_7cm\"] = hourly_soil_temperature_0_to_7cm\n",
    "\n",
    "hourly_dataframe = pd.DataFrame(data = hourly_data)\n",
    "print(hourly_dataframe)"
   ]
  },
  {
   "cell_type": "code",
   "execution_count": 8,
   "metadata": {
    "id": "GfTM75hotIkF"
   },
   "outputs": [],
   "source": [
    "data = hourly_dataframe.to_csv('dataClimaProyecto.csv', index=False)"
   ]
  },
  {
   "cell_type": "code",
   "execution_count": null,
   "metadata": {
    "id": "yhl0I0_LvPQZ"
   },
   "outputs": [],
   "source": [
    "from google.colab import drive"
   ]
  },
  {
   "cell_type": "code",
   "execution_count": null,
   "metadata": {
    "colab": {
     "base_uri": "https://localhost:8080/"
    },
    "executionInfo": {
     "elapsed": 19130,
     "status": "ok",
     "timestamp": 1746587716934,
     "user": {
      "displayName": "Marlon Cueva",
      "userId": "15952990611834905531"
     },
     "user_tz": 300
    },
    "id": "XXNzCij-vSJl",
    "outputId": "b4388973-ddc7-416a-e914-9cc0c20dbef9"
   },
   "outputs": [
    {
     "name": "stdout",
     "output_type": "stream",
     "text": [
      "Mounted at /content/drive\n"
     ]
    }
   ],
   "source": [
    "drive.mount('/content/drive')"
   ]
  },
  {
   "cell_type": "code",
   "execution_count": 27,
   "metadata": {
    "colab": {
     "base_uri": "https://localhost:8080/",
     "height": 36
    },
    "executionInfo": {
     "elapsed": 21,
     "status": "ok",
     "timestamp": 1746587981953,
     "user": {
      "displayName": "Marlon Cueva",
      "userId": "15952990611834905531"
     },
     "user_tz": 300
    },
    "id": "d3Nq9_8iva0R",
    "outputId": "d7f2c783-608b-4e08-de66-6e7962780cfa"
   },
   "outputs": [
    {
     "data": {
      "application/vnd.google.colaboratory.intrinsic+json": {
       "type": "string"
      },
      "text/plain": [
       "'/content/drive/MyDrive/UTPL/HerramientasIA/dataClima.csv'"
      ]
     },
     "execution_count": 27,
     "metadata": {},
     "output_type": "execute_result"
    }
   ],
   "source": [
    "import shutil\n",
    "\n",
    "shutil.move(\"/content/dataClima.csv\", \"/content/drive/MyDrive/UTPL/HerramientasIA/dataClima.csv\")"
   ]
  },
  {
   "cell_type": "code",
   "execution_count": null,
   "metadata": {},
   "outputs": [],
   "source": []
  }
 ],
 "metadata": {
  "colab": {
   "authorship_tag": "ABX9TyNn5frTo57G249cNiSUl9Lc",
   "mount_file_id": "1FccsIDhWqFtz6yo7vsIAjWrEUU3YZeMe",
   "provenance": []
  },
  "kernelspec": {
   "display_name": "Python 3 (ipykernel)",
   "language": "python",
   "name": "python3"
  },
  "language_info": {
   "codemirror_mode": {
    "name": "ipython",
    "version": 3
   },
   "file_extension": ".py",
   "mimetype": "text/x-python",
   "name": "python",
   "nbconvert_exporter": "python",
   "pygments_lexer": "ipython3",
   "version": "3.12.10"
  }
 },
 "nbformat": 4,
 "nbformat_minor": 4
}
